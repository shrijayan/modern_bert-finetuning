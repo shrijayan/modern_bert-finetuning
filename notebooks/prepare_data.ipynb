{
 "cells": [
  {
   "cell_type": "code",
   "execution_count": 4,
   "metadata": {},
   "outputs": [
    {
     "name": "stdout",
     "output_type": "stream",
     "text": [
      "Parquet files found: ['/Users/shrijayan.rajendran/projects/personal/monk/modern_bert-finetuning/data/raw/banking77/data/train-00000-of-00001.parquet', '/Users/shrijayan.rajendran/projects/personal/monk/modern_bert-finetuning/data/raw/banking77/data/test-00000-of-00001.parquet']\n",
      "Number of DataFrames read: 2\n",
      "Train DataFrame shape: (10466, 2)\n",
      "Test DataFrame shape: (1308, 2)\n",
      "Validation DataFrame shape: (1309, 2)\n"
     ]
    }
   ],
   "source": [
    "import os\n",
    "import pandas as pd\n",
    "from sklearn.model_selection import train_test_split\n",
    "\n",
    "# Step 1: Get the list of all .parquet files in the folder\n",
    "folder_path = '/Users/shrijayan.rajendran/projects/personal/monk/modern_bert-finetuning/data/raw/banking77/'\n",
    "parquet_files = []\n",
    "for root, dirs, files in os.walk(folder_path):\n",
    "    for file in files:\n",
    "        if file.endswith('.parquet'):\n",
    "            parquet_files.append(os.path.join(root, file))\n",
    "\n",
    "# Debug: Print the list of .parquet files found\n",
    "print(\"Parquet files found:\", parquet_files)\n",
    "\n",
    "# Step 2: Combine all .parquet files into a single DataFrame\n",
    "df_list = [pd.read_parquet(os.path.join(folder_path, file)) for file in parquet_files]\n",
    "\n",
    "# Debug: Print the number of DataFrames read\n",
    "print(\"Number of DataFrames read:\", len(df_list))\n",
    "\n",
    "if df_list:\n",
    "    combined_df = pd.concat(df_list, ignore_index=True)\n",
    "\n",
    "    # Step 3: Split the DataFrame into train, test, and validation sets\n",
    "    train_df, temp_df = train_test_split(combined_df, test_size=0.2, random_state=42)\n",
    "    test_df, val_df = train_test_split(temp_df, test_size=0.5, random_state=42)\n",
    "\n",
    "    # Debug: Print the shapes of the resulting DataFrames\n",
    "    print(\"Train DataFrame shape:\", train_df.shape)\n",
    "    print(\"Test DataFrame shape:\", test_df.shape)\n",
    "    print(\"Validation DataFrame shape:\", val_df.shape)\n",
    "else:\n",
    "    print(\"No DataFrames to concatenate.\")"
   ]
  },
  {
   "cell_type": "code",
   "execution_count": null,
   "metadata": {},
   "outputs": [],
   "source": []
  },
  {
   "cell_type": "code",
   "execution_count": null,
   "metadata": {},
   "outputs": [],
   "source": []
  }
 ],
 "metadata": {
  "kernelspec": {
   "display_name": ".venv-mbert",
   "language": "python",
   "name": "python3"
  },
  "language_info": {
   "codemirror_mode": {
    "name": "ipython",
    "version": 3
   },
   "file_extension": ".py",
   "mimetype": "text/x-python",
   "name": "python",
   "nbconvert_exporter": "python",
   "pygments_lexer": "ipython3",
   "version": "3.12.8"
  }
 },
 "nbformat": 4,
 "nbformat_minor": 2
}
